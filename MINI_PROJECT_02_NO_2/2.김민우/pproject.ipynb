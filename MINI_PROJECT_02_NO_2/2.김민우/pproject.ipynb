{
 "cells": [
  {
   "cell_type": "markdown",
   "metadata": {},
   "source": [
    "모듈 설치"
   ]
  },
  {
   "cell_type": "code",
   "execution_count": 287,
   "metadata": {},
   "outputs": [],
   "source": [
    "import pandas as pd\n",
    "import numpy as np\n",
    "import utils2"
   ]
  },
  {
   "cell_type": "markdown",
   "metadata": {},
   "source": [
    "데이터 경로 설정 및 준비<hr>"
   ]
  },
  {
   "cell_type": "code",
   "execution_count": 288,
   "metadata": {},
   "outputs": [],
   "source": [
    "\n",
    "FILE_CSV_R1='./middleadata1.csv'\n",
    "FILE_CSV_R2='./middleadata12.csv'\n",
    "FILE_CSV_R3='./northadata1.csv'\n",
    "FILE_CSV_R4='./northadata12.csv'\n",
    "file1='./23년 아파트 실거래가 1월.xlsx'\n",
    "file2='./23년 아파트 실거래가 12월.xlsx'\n",
    "file3='./23년 아파트 북구 1월 실거래가.xlsx'\n",
    "file4='./23년 아파트 북구 12월 실거래가.xlsx'\n"
   ]
  },
  {
   "cell_type": "markdown",
   "metadata": {},
   "source": [
    "excel데이터 확인 후 csv로 다시 저장<hr>"
   ]
  },
  {
   "cell_type": "code",
   "execution_count": 289,
   "metadata": {},
   "outputs": [],
   "source": [
    "#엑셀파일 읽어오기(23년 아파트 중구 실거래가 1월)\n",
    "datadf1=pd.read_excel(file1)                                         \n"
   ]
  },
  {
   "cell_type": "code",
   "execution_count": 290,
   "metadata": {},
   "outputs": [
    {
     "name": "stdout",
     "output_type": "stream",
     "text": [
      "---[23년 아파트 중구 실거래가 1월]---\n",
      "df.dtypes => 미소시티          object\n",
      "66000          int64\n",
      "138.16       float64\n",
      "13             int64\n",
      "계산동2가 100     object\n",
      "dtype: object\n",
      "df.index => RangeIndex(start=0, stop=72, step=1)\n",
      "df.columns => Index(['미소시티', 66000, 138.16, 13, '계산동2가 100'], dtype='object')\n",
      "df.ndim => 2\n",
      "df.shape => (72, 5)\n",
      "---[23년 아파트 중구 실거래가 1월]---\n",
      "<class 'pandas.core.frame.DataFrame'>\n",
      "RangeIndex: 72 entries, 0 to 71\n",
      "Data columns (total 5 columns):\n",
      " #   Column     Non-Null Count  Dtype  \n",
      "---  ------     --------------  -----  \n",
      " 0   미소시티       72 non-null     object \n",
      " 1   66000      72 non-null     int64  \n",
      " 2   138.16     72 non-null     float64\n",
      " 3   13         72 non-null     int64  \n",
      " 4   계산동2가 100  72 non-null     object \n",
      "dtypes: float64(1), int64(2), object(2)\n",
      "memory usage: 2.9+ KB\n",
      "           미소시티  66000  138.16  13 계산동2가 100\n",
      "0  남산롯데캐슬센트럴스카이  64500   84.95  12  남산동 3020\n",
      "1       대신센트럴자이  59000   96.48  25  대신동 2106\n",
      "\n",
      "       미소시티  66000  138.16  13   계산동2가 100\n",
      "70       까치  15000   53.60  13  남산동 2482-1\n",
      "71  남문시장2지구  13500   68.03   3   남산동 699-7\n",
      "              66000      138.16         13\n",
      "count     72.000000   72.000000  72.000000\n",
      "mean   38273.194444   75.908194  16.541667\n",
      "std     8424.066100   14.304694   8.252934\n",
      "min    13500.000000   53.600000   3.000000\n",
      "25%    32950.000000   59.980000   9.750000\n",
      "50%    37750.000000   84.570000  16.500000\n",
      "75%    43600.000000   84.852500  23.250000\n",
      "max    64500.000000  124.150000  34.000000\n"
     ]
    }
   ],
   "source": [
    "#속성 및 통계치 출력\n",
    "utils2.print_attribute(datadf1,'23년 아파트 중구 실거래가 1월')\n",
    "utils2.summary(datadf1,'23년 아파트 중구 실거래가 1월')"
   ]
  },
  {
   "cell_type": "code",
   "execution_count": 291,
   "metadata": {},
   "outputs": [],
   "source": [
    "#컬럼명 재설정\n",
    "datadf1.columns = ['apt', 'money', 'extend', 'floor', 'residence']"
   ]
  },
  {
   "cell_type": "code",
   "execution_count": 292,
   "metadata": {},
   "outputs": [],
   "source": [
    "#csv로 다시 저장\n",
    "datadf1.to_csv(FILE_CSV_R1)"
   ]
  },
  {
   "cell_type": "code",
   "execution_count": 293,
   "metadata": {},
   "outputs": [],
   "source": [
    "#엑셀파일 읽어오기(23년 아파트 중구 실거래가 12월)\n",
    "datadf2=pd.read_excel(file2)\n"
   ]
  },
  {
   "cell_type": "code",
   "execution_count": 294,
   "metadata": {},
   "outputs": [
    {
     "name": "stdout",
     "output_type": "stream",
     "text": [
      "---[23년 아파트 중구 실거래가 12월]---\n",
      "df.dtypes => 남산롯데캐슬센트럴스카이     object\n",
      "91000             int64\n",
      "101.52          float64\n",
      "6                 int64\n",
      "남산동 3020         object\n",
      "위치보기             object\n",
      "dtype: object\n",
      "df.index => RangeIndex(start=0, stop=69, step=1)\n",
      "df.columns => Index(['남산롯데캐슬센트럴스카이', 91000, 101.52, 6, '남산동 3020', '위치보기'], dtype='object')\n",
      "df.ndim => 2\n",
      "df.shape => (69, 6)\n",
      "---[23년 아파트 중구 실거래가 12월]---\n",
      "<class 'pandas.core.frame.DataFrame'>\n",
      "RangeIndex: 69 entries, 0 to 68\n",
      "Data columns (total 6 columns):\n",
      " #   Column        Non-Null Count  Dtype  \n",
      "---  ------        --------------  -----  \n",
      " 0   남산롯데캐슬센트럴스카이  69 non-null     object \n",
      " 1   91000         69 non-null     int64  \n",
      " 2   101.52        69 non-null     float64\n",
      " 3   6             69 non-null     int64  \n",
      " 4   남산동 3020      69 non-null     object \n",
      " 5   위치보기          68 non-null     object \n",
      "dtypes: float64(1), int64(2), object(3)\n",
      "memory usage: 3.4+ KB\n",
      "   남산롯데캐슬센트럴스카이  91000  101.52   6   남산동 3020  위치보기\n",
      "0        센트로팰리스  90000  179.46  16  대봉동 60-10  위치보기\n",
      "1  남산롯데캐슬센트럴스카이  90000  101.52  13   남산동 3020  위치보기\n",
      "\n",
      "   남산롯데캐슬센트럴스카이  91000  101.52   6    남산동 3020  위치보기\n",
      "67       보성황실타운  22700   59.96  11  남산동 2466-1  위치보기\n",
      "68           까치  19500   59.66   9  남산동 2482-1   NaN\n",
      "              91000      101.52          6\n",
      "count     69.000000   69.000000  69.000000\n",
      "mean   46157.101449   79.199855  13.840580\n",
      "std    14448.809039   22.438386   7.034836\n",
      "min    19500.000000   39.650000   2.000000\n",
      "25%    36800.000000   59.980000   9.000000\n",
      "50%    44000.000000   84.050000  12.000000\n",
      "75%    51000.000000   84.940000  18.000000\n",
      "max    90000.000000  179.460000  33.000000\n"
     ]
    }
   ],
   "source": [
    "#속성 및 통계치 출력\n",
    "utils2.print_attribute(datadf2,'23년 아파트 중구 실거래가 12월')\n",
    "utils2.summary(datadf2,'23년 아파트 중구 실거래가 12월')"
   ]
  },
  {
   "cell_type": "code",
   "execution_count": 295,
   "metadata": {},
   "outputs": [],
   "source": [
    "#컬럼명 재설정\n",
    "datadf2.columns = ['apt', 'money', 'extend', 'floor', 'residence','loc']"
   ]
  },
  {
   "cell_type": "code",
   "execution_count": 296,
   "metadata": {},
   "outputs": [],
   "source": [
    "#csv로 다시 저장\n",
    "datadf2.to_csv(FILE_CSV_R2)"
   ]
  },
  {
   "cell_type": "code",
   "execution_count": 297,
   "metadata": {},
   "outputs": [],
   "source": [
    "# 엑셀 파일 읽어오기(23년 아파트 북구 실거래가 1월)\n",
    "datadf3=pd.read_excel(file3)\n"
   ]
  },
  {
   "cell_type": "code",
   "execution_count": 298,
   "metadata": {},
   "outputs": [
    {
     "name": "stdout",
     "output_type": "stream",
     "text": [
      "---[23년 아파트 북구 실거래가 1월]---\n",
      "df.dtypes => 아파트        object\n",
      "금액(만원)      int64\n",
      "면적        float64\n",
      "층           int64\n",
      "주소         object\n",
      "dtype: object\n",
      "df.index => RangeIndex(start=0, stop=167, step=1)\n",
      "df.columns => Index(['아파트', '금액(만원)', '면적', '층', '주소'], dtype='object')\n",
      "df.ndim => 2\n",
      "df.shape => (167, 5)\n",
      "---[23년 아파트 북구 실거래가 1월]---\n",
      "<class 'pandas.core.frame.DataFrame'>\n",
      "RangeIndex: 167 entries, 0 to 166\n",
      "Data columns (total 5 columns):\n",
      " #   Column  Non-Null Count  Dtype  \n",
      "---  ------  --------------  -----  \n",
      " 0   아파트     167 non-null    object \n",
      " 1   금액(만원)  167 non-null    int64  \n",
      " 2   면적      167 non-null    float64\n",
      " 3   층       167 non-null    int64  \n",
      " 4   주소      167 non-null    object \n",
      "dtypes: float64(1), int64(2), object(2)\n",
      "memory usage: 6.6+ KB\n",
      "         아파트  금액(만원)      면적   층          주소\n",
      "0  코오롱하늘채2단지   71000  134.19  14   침산동 105-1\n",
      "1     명성푸르지오   60000  140.71  10  침산동 269-10\n",
      "\n",
      "      아파트  금액(만원)     면적   층         주소\n",
      "165  산호한양    9000  36.18  10   읍내동 1351\n",
      "166  유성청구    8000  35.10  15  검단동 887-8\n",
      "             금액(만원)          면적           층\n",
      "count    167.000000  167.000000  167.000000\n",
      "mean   27626.790419   74.564970   11.467066\n",
      "std    12002.176982   19.763613    7.695864\n",
      "min     8000.000000   35.100000    1.000000\n",
      "25%    19000.000000   59.875000    5.500000\n",
      "50%    26500.000000   74.990000   11.000000\n",
      "75%    35000.000000   84.965000   15.000000\n",
      "max    71000.000000  140.710000   36.000000\n"
     ]
    }
   ],
   "source": [
    "#속성 및 통계치 출력\n",
    "utils2.print_attribute(datadf3,'23년 아파트 북구 실거래가 1월')\n",
    "utils2.summary(datadf3,'23년 아파트 북구 실거래가 1월')"
   ]
  },
  {
   "cell_type": "code",
   "execution_count": 299,
   "metadata": {},
   "outputs": [],
   "source": [
    "#컬럼명 재설정\n",
    "datadf3.columns = ['apt', 'money', 'extend', 'floor', 'residence']"
   ]
  },
  {
   "cell_type": "code",
   "execution_count": 300,
   "metadata": {},
   "outputs": [],
   "source": [
    "#csv로 다시 저장\n",
    "datadf3.to_csv(FILE_CSV_R3)"
   ]
  },
  {
   "cell_type": "code",
   "execution_count": 301,
   "metadata": {},
   "outputs": [],
   "source": [
    "# 엑셀 파일 읽어오기(23년 아파트 북구 실거래가 12월)\n",
    "datadf4=pd.read_excel(file4)\n"
   ]
  },
  {
   "cell_type": "code",
   "execution_count": 302,
   "metadata": {},
   "outputs": [
    {
     "name": "stdout",
     "output_type": "stream",
     "text": [
      "---[23년 아파트 북구 실거래가 12월]---\n",
      "df.dtypes => 아파트        object\n",
      "금액(만원)      int64\n",
      "면적        float64\n",
      "층           int64\n",
      "주소         object\n",
      "dtype: object\n",
      "df.index => RangeIndex(start=0, stop=261, step=1)\n",
      "df.columns => Index(['아파트', '금액(만원)', '면적', '층', '주소'], dtype='object')\n",
      "df.ndim => 2\n",
      "df.shape => (261, 5)\n",
      "---[23년 아파트 북구 실거래가 12월]---\n",
      "<class 'pandas.core.frame.DataFrame'>\n",
      "RangeIndex: 261 entries, 0 to 260\n",
      "Data columns (total 5 columns):\n",
      " #   Column  Non-Null Count  Dtype  \n",
      "---  ------  --------------  -----  \n",
      " 0   아파트     261 non-null    object \n",
      " 1   금액(만원)  261 non-null    int64  \n",
      " 2   면적      261 non-null    float64\n",
      " 3   층       261 non-null    int64  \n",
      " 4   주소      261 non-null    object \n",
      "dtypes: float64(1), int64(2), object(2)\n",
      "memory usage: 10.3+ KB\n",
      "             아파트  금액(만원)      면적   층         주소\n",
      "0  오페라트루엘시민의숲아파트   67000  115.26  16  고성동3가 145\n",
      "1  침산1차푸르지오(2-2)   66000  112.11  28  칠성동2가 2-2\n",
      "\n",
      "       아파트  금액(만원)     면적  층           주소\n",
      "259   한신중앙    8300  36.87  1    태전동 936-1\n",
      "260  산격청구2    7700  31.60  4  산격동 1404-19\n",
      "             금액(만원)          면적           층\n",
      "count    261.000000  261.000000  261.000000\n",
      "mean   27038.298851   73.445441   10.099617\n",
      "std    12401.709780   15.878138    6.283498\n",
      "min     7700.000000   31.600000    1.000000\n",
      "25%    16500.000000   59.870000    6.000000\n",
      "50%    24100.000000   81.160000    9.000000\n",
      "75%    35500.000000   84.960000   14.000000\n",
      "max    67000.000000  133.350000   37.000000\n"
     ]
    }
   ],
   "source": [
    "#속성 및 통계치 출력\n",
    "utils2.print_attribute(datadf4,'23년 아파트 북구 실거래가 12월')\n",
    "utils2.summary(datadf4,'23년 아파트 북구 실거래가 12월')"
   ]
  },
  {
   "cell_type": "code",
   "execution_count": 303,
   "metadata": {},
   "outputs": [],
   "source": [
    "#컬럼명 재설정\n",
    "datadf4.columns = ['apt', 'money', 'extend', 'floor', 'residence']"
   ]
  },
  {
   "cell_type": "code",
   "execution_count": 304,
   "metadata": {},
   "outputs": [],
   "source": [
    "#CSV로 다시 저장\n",
    "datadf4.to_csv(FILE_CSV_R4)"
   ]
  },
  {
   "cell_type": "markdown",
   "metadata": {},
   "source": [
    "csv 데이터 확인<hr>"
   ]
  },
  {
   "cell_type": "code",
   "execution_count": 305,
   "metadata": {},
   "outputs": [],
   "source": [
    "# csv파일 읽어오기(23년 아파트 실거래가 중구 1월)\n",
    "ddatadf1=pd.read_csv('./middleadata1.csv')"
   ]
  },
  {
   "cell_type": "code",
   "execution_count": 306,
   "metadata": {},
   "outputs": [
    {
     "name": "stdout",
     "output_type": "stream",
     "text": [
      "---[23년 아파트 중구 실거래가 1월]---\n",
      "df.dtypes => Unnamed: 0      int64\n",
      "apt            object\n",
      "money           int64\n",
      "extend        float64\n",
      "floor           int64\n",
      "residence      object\n",
      "dtype: object\n",
      "df.index => RangeIndex(start=0, stop=72, step=1)\n",
      "df.columns => Index(['Unnamed: 0', 'apt', 'money', 'extend', 'floor', 'residence'], dtype='object')\n",
      "df.ndim => 2\n",
      "df.shape => (72, 6)\n",
      "---[23년 아파트 중구 실거래가 1월]---\n",
      "<class 'pandas.core.frame.DataFrame'>\n",
      "RangeIndex: 72 entries, 0 to 71\n",
      "Data columns (total 6 columns):\n",
      " #   Column      Non-Null Count  Dtype  \n",
      "---  ------      --------------  -----  \n",
      " 0   Unnamed: 0  72 non-null     int64  \n",
      " 1   apt         72 non-null     object \n",
      " 2   money       72 non-null     int64  \n",
      " 3   extend      72 non-null     float64\n",
      " 4   floor       72 non-null     int64  \n",
      " 5   residence   72 non-null     object \n",
      "dtypes: float64(1), int64(3), object(2)\n",
      "memory usage: 3.5+ KB\n",
      "   Unnamed: 0           apt  money  extend  floor residence\n",
      "0           0  남산롯데캐슬센트럴스카이  64500   84.95     12  남산동 3020\n",
      "1           1       대신센트럴자이  59000   96.48     25  대신동 2106\n",
      "\n",
      "    Unnamed: 0      apt  money  extend  floor   residence\n",
      "70          70       까치  15000   53.60     13  남산동 2482-1\n",
      "71          71  남문시장2지구  13500   68.03      3   남산동 699-7\n",
      "       Unnamed: 0         money      extend      floor\n",
      "count    72.00000     72.000000   72.000000  72.000000\n",
      "mean     35.50000  38273.194444   75.908194  16.541667\n",
      "std      20.92845   8424.066100   14.304694   8.252934\n",
      "min       0.00000  13500.000000   53.600000   3.000000\n",
      "25%      17.75000  32950.000000   59.980000   9.750000\n",
      "50%      35.50000  37750.000000   84.570000  16.500000\n",
      "75%      53.25000  43600.000000   84.852500  23.250000\n",
      "max      71.00000  64500.000000  124.150000  34.000000\n"
     ]
    }
   ],
   "source": [
    "#속성 및 통계치 출력\n",
    "utils2.print_attribute(ddatadf1,'23년 아파트 중구 실거래가 1월')\n",
    "utils2.summary(ddatadf1,'23년 아파트 중구 실거래가 1월')"
   ]
  },
  {
   "cell_type": "code",
   "execution_count": 307,
   "metadata": {},
   "outputs": [],
   "source": [
    "# 이상한 컬럼 삭제\n",
    "ddatadf1.drop(columns=['Unnamed: 0'],inplace=True)"
   ]
  },
  {
   "cell_type": "code",
   "execution_count": 308,
   "metadata": {},
   "outputs": [],
   "source": [
    "# csv파일 읽어오기(23년 아파트 실거래가 중구 12월)\n",
    "ddatadf2=pd.read_csv('./middleadata12.csv')"
   ]
  },
  {
   "cell_type": "code",
   "execution_count": 309,
   "metadata": {},
   "outputs": [
    {
     "name": "stdout",
     "output_type": "stream",
     "text": [
      "---[23년 아파트 중구 실거래가 12월]---\n",
      "df.dtypes => Unnamed: 0      int64\n",
      "apt            object\n",
      "money           int64\n",
      "extend        float64\n",
      "floor           int64\n",
      "residence      object\n",
      "loc            object\n",
      "dtype: object\n",
      "df.index => RangeIndex(start=0, stop=69, step=1)\n",
      "df.columns => Index(['Unnamed: 0', 'apt', 'money', 'extend', 'floor', 'residence', 'loc'], dtype='object')\n",
      "df.ndim => 2\n",
      "df.shape => (69, 7)\n",
      "---[23년 아파트 중구 실거래가 12월]---\n",
      "<class 'pandas.core.frame.DataFrame'>\n",
      "RangeIndex: 69 entries, 0 to 68\n",
      "Data columns (total 7 columns):\n",
      " #   Column      Non-Null Count  Dtype  \n",
      "---  ------      --------------  -----  \n",
      " 0   Unnamed: 0  69 non-null     int64  \n",
      " 1   apt         69 non-null     object \n",
      " 2   money       69 non-null     int64  \n",
      " 3   extend      69 non-null     float64\n",
      " 4   floor       69 non-null     int64  \n",
      " 5   residence   69 non-null     object \n",
      " 6   loc         68 non-null     object \n",
      "dtypes: float64(1), int64(3), object(3)\n",
      "memory usage: 3.9+ KB\n",
      "   Unnamed: 0           apt  money  extend  floor  residence   loc\n",
      "0           0        센트로팰리스  90000  179.46     16  대봉동 60-10  위치보기\n",
      "1           1  남산롯데캐슬센트럴스카이  90000  101.52     13   남산동 3020  위치보기\n",
      "\n",
      "    Unnamed: 0     apt  money  extend  floor   residence   loc\n",
      "67          67  보성황실타운  22700   59.96     11  남산동 2466-1  위치보기\n",
      "68          68      까치  19500   59.66      9  남산동 2482-1   NaN\n",
      "       Unnamed: 0         money      extend      floor\n",
      "count   69.000000     69.000000   69.000000  69.000000\n",
      "mean    34.000000  46157.101449   79.199855  13.840580\n",
      "std     20.062403  14448.809039   22.438386   7.034836\n",
      "min      0.000000  19500.000000   39.650000   2.000000\n",
      "25%     17.000000  36800.000000   59.980000   9.000000\n",
      "50%     34.000000  44000.000000   84.050000  12.000000\n",
      "75%     51.000000  51000.000000   84.940000  18.000000\n",
      "max     68.000000  90000.000000  179.460000  33.000000\n"
     ]
    }
   ],
   "source": [
    "#속성 및 통계치 출력\n",
    "utils2.print_attribute(ddatadf2,'23년 아파트 중구 실거래가 12월')\n",
    "utils2.summary(ddatadf2,'23년 아파트 중구 실거래가 12월')"
   ]
  },
  {
   "cell_type": "code",
   "execution_count": 310,
   "metadata": {},
   "outputs": [],
   "source": [
    "# 이상한 컬럼 삭제\n",
    "ddatadf2.drop(columns=['Unnamed: 0','loc'],inplace=True)"
   ]
  },
  {
   "cell_type": "code",
   "execution_count": 311,
   "metadata": {},
   "outputs": [],
   "source": [
    "# csv파일 읽어오기(23년 아파트 실거래가 북구 1월)\n",
    "ddatadf3=pd.read_csv('./northadata1.csv')"
   ]
  },
  {
   "cell_type": "code",
   "execution_count": 312,
   "metadata": {},
   "outputs": [
    {
     "name": "stdout",
     "output_type": "stream",
     "text": [
      "---[23년 아파트 북구 실거래가 1월]---\n",
      "df.dtypes => Unnamed: 0      int64\n",
      "apt            object\n",
      "money           int64\n",
      "extend        float64\n",
      "floor           int64\n",
      "residence      object\n",
      "dtype: object\n",
      "df.index => RangeIndex(start=0, stop=167, step=1)\n",
      "df.columns => Index(['Unnamed: 0', 'apt', 'money', 'extend', 'floor', 'residence'], dtype='object')\n",
      "df.ndim => 2\n",
      "df.shape => (167, 6)\n",
      "---[23년 아파트 북구 실거래가 1월]---\n",
      "<class 'pandas.core.frame.DataFrame'>\n",
      "RangeIndex: 167 entries, 0 to 166\n",
      "Data columns (total 6 columns):\n",
      " #   Column      Non-Null Count  Dtype  \n",
      "---  ------      --------------  -----  \n",
      " 0   Unnamed: 0  167 non-null    int64  \n",
      " 1   apt         167 non-null    object \n",
      " 2   money       167 non-null    int64  \n",
      " 3   extend      167 non-null    float64\n",
      " 4   floor       167 non-null    int64  \n",
      " 5   residence   167 non-null    object \n",
      "dtypes: float64(1), int64(3), object(2)\n",
      "memory usage: 8.0+ KB\n",
      "   Unnamed: 0        apt  money  extend  floor   residence\n",
      "0           0  코오롱하늘채2단지  71000  134.19     14   침산동 105-1\n",
      "1           1     명성푸르지오  60000  140.71     10  침산동 269-10\n",
      "\n",
      "     Unnamed: 0   apt  money  extend  floor  residence\n",
      "165         165  산호한양   9000   36.18     10   읍내동 1351\n",
      "166         166  유성청구   8000   35.10     15  검단동 887-8\n",
      "       Unnamed: 0         money      extend       floor\n",
      "count   167.00000    167.000000  167.000000  167.000000\n",
      "mean     83.00000  27626.790419   74.564970   11.467066\n",
      "std      48.35287  12002.176982   19.763613    7.695864\n",
      "min       0.00000   8000.000000   35.100000    1.000000\n",
      "25%      41.50000  19000.000000   59.875000    5.500000\n",
      "50%      83.00000  26500.000000   74.990000   11.000000\n",
      "75%     124.50000  35000.000000   84.965000   15.000000\n",
      "max     166.00000  71000.000000  140.710000   36.000000\n"
     ]
    }
   ],
   "source": [
    "#속성 및 통계치 출력\n",
    "utils2.print_attribute(ddatadf3,'23년 아파트 북구 실거래가 1월')\n",
    "utils2.summary(ddatadf3,'23년 아파트 북구 실거래가 1월')"
   ]
  },
  {
   "cell_type": "code",
   "execution_count": 313,
   "metadata": {},
   "outputs": [],
   "source": [
    "# 이상한 컬럼 삭제\n",
    "ddatadf3.drop(columns=['Unnamed: 0'],inplace=True)"
   ]
  },
  {
   "cell_type": "code",
   "execution_count": 314,
   "metadata": {},
   "outputs": [],
   "source": [
    "# csv파일 읽어오기(23년 아파트 실거래가 북구 12월)\n",
    "ddatadf4=pd.read_csv('./northadata12.csv')"
   ]
  },
  {
   "cell_type": "code",
   "execution_count": 315,
   "metadata": {},
   "outputs": [
    {
     "name": "stdout",
     "output_type": "stream",
     "text": [
      "---[23년 아파트 북구 실거래가 12월]---\n",
      "df.dtypes => Unnamed: 0      int64\n",
      "apt            object\n",
      "money           int64\n",
      "extend        float64\n",
      "floor           int64\n",
      "residence      object\n",
      "dtype: object\n",
      "df.index => RangeIndex(start=0, stop=261, step=1)\n",
      "df.columns => Index(['Unnamed: 0', 'apt', 'money', 'extend', 'floor', 'residence'], dtype='object')\n",
      "df.ndim => 2\n",
      "df.shape => (261, 6)\n",
      "---[23년 아파트 북구 실거래가 12월]---\n",
      "<class 'pandas.core.frame.DataFrame'>\n",
      "RangeIndex: 261 entries, 0 to 260\n",
      "Data columns (total 6 columns):\n",
      " #   Column      Non-Null Count  Dtype  \n",
      "---  ------      --------------  -----  \n",
      " 0   Unnamed: 0  261 non-null    int64  \n",
      " 1   apt         261 non-null    object \n",
      " 2   money       261 non-null    int64  \n",
      " 3   extend      261 non-null    float64\n",
      " 4   floor       261 non-null    int64  \n",
      " 5   residence   261 non-null    object \n",
      "dtypes: float64(1), int64(3), object(2)\n",
      "memory usage: 12.4+ KB\n",
      "   Unnamed: 0            apt  money  extend  floor  residence\n",
      "0           0  오페라트루엘시민의숲아파트  67000  115.26     16  고성동3가 145\n",
      "1           1  침산1차푸르지오(2-2)  66000  112.11     28  칠성동2가 2-2\n",
      "\n",
      "     Unnamed: 0    apt  money  extend  floor    residence\n",
      "259         259   한신중앙   8300   36.87      1    태전동 936-1\n",
      "260         260  산격청구2   7700   31.60      4  산격동 1404-19\n",
      "       Unnamed: 0         money      extend       floor\n",
      "count   261.00000    261.000000  261.000000  261.000000\n",
      "mean    130.00000  27038.298851   73.445441   10.099617\n",
      "std      75.48841  12401.709780   15.878138    6.283498\n",
      "min       0.00000   7700.000000   31.600000    1.000000\n",
      "25%      65.00000  16500.000000   59.870000    6.000000\n",
      "50%     130.00000  24100.000000   81.160000    9.000000\n",
      "75%     195.00000  35500.000000   84.960000   14.000000\n",
      "max     260.00000  67000.000000  133.350000   37.000000\n"
     ]
    }
   ],
   "source": [
    "#속성 및 통계치 출력\n",
    "utils2.print_attribute(ddatadf4,'23년 아파트 북구 실거래가 12월')\n",
    "utils2.summary(ddatadf4,'23년 아파트 북구 실거래가 12월')"
   ]
  },
  {
   "cell_type": "code",
   "execution_count": 316,
   "metadata": {},
   "outputs": [],
   "source": [
    "# 이상한 컬럼 삭제\n",
    "ddatadf4.drop(columns=['Unnamed: 0'],inplace=True)"
   ]
  },
  {
   "cell_type": "code",
   "execution_count": 317,
   "metadata": {},
   "outputs": [],
   "source": [
    "# 평균 값 구하는 함수\n",
    "def calculate_money_mean_with_loop(dataframes, target_name='삼덕청아람'):\n",
    "    money_values = []\n",
    "    min_extend=70      # 값중에 이상값이 있어 평수 설정정\n",
    "    for df in dataframes:\n",
    "        for _, row in df.iterrows():\n",
    "                if row['apt'] == target_name  and row['extend'] >= min_extend:  # '삼덕청아람'인지, 평수가 70이상인지 확인\n",
    "                    money_values.append(row['money'])  # 'money' 값을 저장\n",
    "    \n",
    "    # 평균 계산\n",
    "    if money_values:\n",
    "        return sum(money_values) / len(money_values)\n",
    "    else:\n",
    "        return None  # '삼덕청아람'이 없는 경우\n",
    "\n"
   ]
  },
  {
   "cell_type": "code",
   "execution_count": 318,
   "metadata": {},
   "outputs": [
    {
     "data": {
      "text/plain": [
       "45400.0"
      ]
     },
     "execution_count": 318,
     "metadata": {},
     "output_type": "execute_result"
    }
   ],
   "source": [
    "# 1월의 삼덕청아람 가격 평균\n",
    "dataframes = [ddatadf1]\n",
    "money_meanm1 = calculate_money_mean_with_loop(dataframes)\n",
    "money_meanm1"
   ]
  },
  {
   "cell_type": "code",
   "execution_count": 319,
   "metadata": {},
   "outputs": [
    {
     "data": {
      "text/plain": [
       "51000.0"
      ]
     },
     "execution_count": 319,
     "metadata": {},
     "output_type": "execute_result"
    }
   ],
   "source": [
    "# 12월의 삼덕청아람 가격 평균\n",
    "dataframes = [ddatadf2]\n",
    "money_meanm12 = calculate_money_mean_with_loop(dataframes)\n",
    "money_meanm12"
   ]
  },
  {
   "cell_type": "code",
   "execution_count": 320,
   "metadata": {},
   "outputs": [
    {
     "data": {
      "text/plain": [
       "12.334801762114544"
      ]
     },
     "execution_count": 320,
     "metadata": {},
     "output_type": "execute_result"
    }
   ],
   "source": [
    "# 삼덕청아람의 등락율%\n",
    "(money_meanm12/money_meanm1-1)*100"
   ]
  },
  {
   "cell_type": "code",
   "execution_count": 321,
   "metadata": {},
   "outputs": [],
   "source": [
    "# 평균 값 구하는 함수\n",
    "def calculate_money_mean_with_loop(dataframes, target_name='학정청아람'):\n",
    "    money_values = []\n",
    "    min_extend=80\n",
    "    for df in dataframes:\n",
    "        for _, row in df.iterrows():\n",
    "            if row['apt'] == target_name and row['extend'] >= min_extend: # '학정청아람'인지 확인\n",
    "                money_values.append(row['money'])  # 'money' 값을 저장\n",
    "    \n",
    "    # 평균 계산\n",
    "    if money_values:\n",
    "        return sum(money_values) / len(money_values)\n",
    "    else:\n",
    "        return None  # '학정청아람'이 없는 경우\n",
    "\n"
   ]
  },
  {
   "cell_type": "code",
   "execution_count": 322,
   "metadata": {},
   "outputs": [
    {
     "data": {
      "text/plain": [
       "28100.0"
      ]
     },
     "execution_count": 322,
     "metadata": {},
     "output_type": "execute_result"
    }
   ],
   "source": [
    "# 1월의 학정청아람 가격 평균\n",
    "dataframes = [ddatadf3]\n",
    "money_meann3 = calculate_money_mean_with_loop(dataframes)\n",
    "money_meann3"
   ]
  },
  {
   "cell_type": "code",
   "execution_count": 323,
   "metadata": {},
   "outputs": [
    {
     "data": {
      "text/plain": [
       "26762.5"
      ]
     },
     "execution_count": 323,
     "metadata": {},
     "output_type": "execute_result"
    }
   ],
   "source": [
    "# 12월의 학정청아람 가격 평균\n",
    "dataframes = [ddatadf4]\n",
    "money_meann4 = calculate_money_mean_with_loop(dataframes)\n",
    "money_meann4"
   ]
  },
  {
   "cell_type": "code",
   "execution_count": 324,
   "metadata": {},
   "outputs": [
    {
     "data": {
      "text/plain": [
       "-4.759786476868333"
      ]
     },
     "execution_count": 324,
     "metadata": {},
     "output_type": "execute_result"
    }
   ],
   "source": [
    "# 학정청아람의 등락율%\n",
    "(money_meann4/money_meann3-1)*100"
   ]
  },
  {
   "cell_type": "markdown",
   "metadata": {},
   "source": [
    "각 행정구역의 인구, 면적, 인구밀도 조사<hr>\n"
   ]
  },
  {
   "cell_type": "code",
   "execution_count": 325,
   "metadata": {},
   "outputs": [],
   "source": [
    "# 대구통계사이트에서 각 행정구역의 인구정보 조사후 직접 입력\n",
    "population_density = {'날짜':[2023.1,2023.12,2023.1,2023.12],'동네':['국우동','국우동','삼덕동','삼덕동'],\n",
    "                      '인구수':[24572,25247,6348,6601], '면적':[17.19,17.19,0.64,0.64],\n",
    "                      '인구밀도':[1429.11,1468.7,9918.75,10314.06]}"
   ]
  },
  {
   "cell_type": "code",
   "execution_count": 326,
   "metadata": {},
   "outputs": [],
   "source": [
    "# 인구밀도 데이터 프레임으로 변경\n",
    "pd_df=pd.DataFrame(population_density)"
   ]
  },
  {
   "cell_type": "code",
   "execution_count": 327,
   "metadata": {},
   "outputs": [
    {
     "name": "stdout",
     "output_type": "stream",
     "text": [
      "---[학정동과 삼덕동의 인구밀도]---\n",
      "df.dtypes => 날짜      float64\n",
      "동네       object\n",
      "인구수       int64\n",
      "면적      float64\n",
      "인구밀도    float64\n",
      "dtype: object\n",
      "df.index => RangeIndex(start=0, stop=4, step=1)\n",
      "df.columns => Index(['날짜', '동네', '인구수', '면적', '인구밀도'], dtype='object')\n",
      "df.ndim => 2\n",
      "df.shape => (4, 5)\n",
      "---[학정동과 삼덕동의 인구밀도]---\n",
      "<class 'pandas.core.frame.DataFrame'>\n",
      "RangeIndex: 4 entries, 0 to 3\n",
      "Data columns (total 5 columns):\n",
      " #   Column  Non-Null Count  Dtype  \n",
      "---  ------  --------------  -----  \n",
      " 0   날짜      4 non-null      float64\n",
      " 1   동네      4 non-null      object \n",
      " 2   인구수     4 non-null      int64  \n",
      " 3   면적      4 non-null      float64\n",
      " 4   인구밀도    4 non-null      float64\n",
      "dtypes: float64(3), int64(1), object(1)\n",
      "memory usage: 288.0+ bytes\n",
      "        날짜   동네    인구수     면적     인구밀도\n",
      "0  2023.10  국우동  24572  17.19  1429.11\n",
      "1  2023.12  국우동  25247  17.19  1468.70\n",
      "\n",
      "        날짜   동네   인구수    면적      인구밀도\n",
      "2  2023.10  삼덕동  6348  0.64   9918.75\n",
      "3  2023.12  삼덕동  6601  0.64  10314.06\n",
      "                날짜          인구수         면적          인구밀도\n",
      "count     4.000000      4.00000   4.000000      4.000000\n",
      "mean   2023.110000  15692.00000   8.915000   5782.655000\n",
      "std       0.011547  10647.51993   9.555147   5006.811192\n",
      "min    2023.100000   6348.00000   0.640000   1429.110000\n",
      "25%    2023.100000   6537.75000   0.640000   1458.802500\n",
      "50%    2023.110000  15586.50000   8.915000   5693.725000\n",
      "75%    2023.120000  24740.75000  17.190000  10017.577500\n",
      "max    2023.120000  25247.00000  17.190000  10314.060000\n"
     ]
    }
   ],
   "source": [
    "# 데이터 정보 확인 및 출력\n",
    "utils2.print_attribute(pd_df,'학정동과 삼덕동의 인구밀도')\n",
    "utils2.summary(pd_df,'학정동과 삼덕동의 인구밀도')"
   ]
  },
  {
   "cell_type": "code",
   "execution_count": 328,
   "metadata": {},
   "outputs": [],
   "source": [
    "# 각 편의점 홈페이지에서 근처 1km 점포수 조사후 직접 입력\n",
    "mstore_data = {'점포명': ['gs25', 'cu', '세븐일레븐'],'점포수': [30, 15, 13]}\n",
    "nstore_data = {'점포명': ['gs25', 'cu', '세븐일레븐'],'점포수': [7, 4, 1]}"
   ]
  },
  {
   "cell_type": "code",
   "execution_count": 329,
   "metadata": {},
   "outputs": [],
   "source": [
    "#각 점포데이터 데이터프레임으로 변환 후 행정구역 인덱스 추가\n",
    "mstore_df=pd.DataFrame(mstore_data,index=['삼덕동', '삼덕동', '삼덕동'])\n",
    "nstore_df=pd.DataFrame(nstore_data,index=['학정동', '학정동', '학정동'])\n"
   ]
  },
  {
   "cell_type": "code",
   "execution_count": 330,
   "metadata": {},
   "outputs": [
    {
     "name": "stdout",
     "output_type": "stream",
     "text": [
      "---[삼덕동 편의점 수]---\n",
      "df.dtypes => 점포명    object\n",
      "점포수     int64\n",
      "dtype: object\n",
      "df.index => Index(['삼덕동', '삼덕동', '삼덕동'], dtype='object')\n",
      "df.columns => Index(['점포명', '점포수'], dtype='object')\n",
      "df.ndim => 2\n",
      "df.shape => (3, 2)\n",
      "---[삼덕동 편의점 수]---\n",
      "<class 'pandas.core.frame.DataFrame'>\n",
      "Index: 3 entries, 삼덕동 to 삼덕동\n",
      "Data columns (total 2 columns):\n",
      " #   Column  Non-Null Count  Dtype \n",
      "---  ------  --------------  ----- \n",
      " 0   점포명     3 non-null      object\n",
      " 1   점포수     3 non-null      int64 \n",
      "dtypes: int64(1), object(1)\n",
      "memory usage: 72.0+ bytes\n",
      "      점포명  점포수\n",
      "삼덕동  gs25   30\n",
      "삼덕동    cu   15\n",
      "\n",
      "       점포명  점포수\n",
      "삼덕동     cu   15\n",
      "삼덕동  세븐일레븐   13\n",
      "             점포수\n",
      "count   3.000000\n",
      "mean   19.333333\n",
      "std     9.291573\n",
      "min    13.000000\n",
      "25%    14.000000\n",
      "50%    15.000000\n",
      "75%    22.500000\n",
      "max    30.000000\n",
      "---[학정동 편의점 수]---\n",
      "df.dtypes => 점포명    object\n",
      "점포수     int64\n",
      "dtype: object\n",
      "df.index => Index(['학정동', '학정동', '학정동'], dtype='object')\n",
      "df.columns => Index(['점포명', '점포수'], dtype='object')\n",
      "df.ndim => 2\n",
      "df.shape => (3, 2)\n",
      "---[학정동 편의점 수]---\n",
      "<class 'pandas.core.frame.DataFrame'>\n",
      "Index: 3 entries, 학정동 to 학정동\n",
      "Data columns (total 2 columns):\n",
      " #   Column  Non-Null Count  Dtype \n",
      "---  ------  --------------  ----- \n",
      " 0   점포명     3 non-null      object\n",
      " 1   점포수     3 non-null      int64 \n",
      "dtypes: int64(1), object(1)\n",
      "memory usage: 72.0+ bytes\n",
      "      점포명  점포수\n",
      "학정동  gs25    7\n",
      "학정동    cu    4\n",
      "\n",
      "       점포명  점포수\n",
      "학정동     cu    4\n",
      "학정동  세븐일레븐    1\n",
      "       점포수\n",
      "count  3.0\n",
      "mean   4.0\n",
      "std    3.0\n",
      "min    1.0\n",
      "25%    2.5\n",
      "50%    4.0\n",
      "75%    5.5\n",
      "max    7.0\n"
     ]
    }
   ],
   "source": [
    "# 데이터 정보 확인 및 출력\n",
    "utils2.print_attribute(mstore_df,'삼덕동 편의점 수')\n",
    "utils2.summary(mstore_df,'삼덕동 편의점 수')\n",
    "utils2.print_attribute(nstore_df,'학정동 편의점 수')\n",
    "utils2.summary(nstore_df,'학정동 편의점 수')"
   ]
  }
 ],
 "metadata": {
  "kernelspec": {
   "display_name": "PY39",
   "language": "python",
   "name": "python3"
  },
  "language_info": {
   "codemirror_mode": {
    "name": "ipython",
    "version": 3
   },
   "file_extension": ".py",
   "mimetype": "text/x-python",
   "name": "python",
   "nbconvert_exporter": "python",
   "pygments_lexer": "ipython3",
   "version": "3.9.21"
  }
 },
 "nbformat": 4,
 "nbformat_minor": 2
}
