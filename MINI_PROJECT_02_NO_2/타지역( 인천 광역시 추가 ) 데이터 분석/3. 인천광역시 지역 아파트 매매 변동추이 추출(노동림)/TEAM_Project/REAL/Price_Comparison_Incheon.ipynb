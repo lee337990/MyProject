{
 "cells": [
  {
   "cell_type": "code",
   "execution_count": 1,
   "metadata": {},
   "outputs": [],
   "source": [
    "# pandas : 데이터 분석용 모듈\n",
    "import pandas as pd"
   ]
  },
  {
   "cell_type": "code",
   "execution_count": 2,
   "metadata": {},
   "outputs": [],
   "source": [
    "# 인천 대중교통 정류장 이용율 차이에 따른 아파트 가격 분석\n",
    "# 상위 지역 : [미추홀구](남동구) 롯데백화점(인천터미널) - 관교동, 구월3동(남동구) 등\n",
    "# 하위 지역 : [부평구]   굴포천역 : 삼산2동, 부평4동\n",
    "\n",
    "# 기준 : 주변 반경 1km 내 아파트\n",
    "\n",
    "# 아파트 매매 실거래가 출처 : \n",
    "# - https://www.koreacharts.com/real-estate/apt-trade.html\n"
   ]
  },
  {
   "cell_type": "code",
   "execution_count": 3,
   "metadata": {},
   "outputs": [],
   "source": [
    "# 엑셀 파일 불러오기\n",
    "MC2301_EXCEL='./INCHEON_MICHOOHOL_23_01.xlsx'\n",
    "MC2312_EXCEL='./INCHEON_MICHOOHOL_23_12.xlsx'\n",
    "BP2301_EXCEL='./INCHEON_BUPYEONG_23_01.xlsx'\n",
    "BP2312_EXCEL='./INCHEON_BUPYEONG_23_12.xlsx'\n",
    "\n",
    "# 롯데백화점(인천터미널) 정류장의 경우 미추홀구와 남동구 경계에 있어 \n",
    "#   미추홀구, 남동구 자료를 사용함\n",
    "# 한정된 실거래량으로 각 두 달치의 거래량을 분석함\n",
    "#  - 23.01 : 22.12, 23.01\n",
    "#  - 23.12 : 23.12, 24.01\n"
   ]
  },
  {
   "cell_type": "code",
   "execution_count": 6,
   "metadata": {},
   "outputs": [],
   "source": [
    "# 엑셀 파일 pandas로 읽기\n",
    "MC2301=pd.read_excel(MC2301_EXCEL)\n",
    "MC2312=pd.read_excel(MC2312_EXCEL)\n",
    "BP2301=pd.read_excel(BP2301_EXCEL)\n",
    "BP2312=pd.read_excel(BP2312_EXCEL)"
   ]
  },
  {
   "cell_type": "code",
   "execution_count": 7,
   "metadata": {},
   "outputs": [],
   "source": [
    "# 엑셀 => CSV 파일 변환\n",
    "MC2301.to_csv('Incheon_MC2301.csv')\n",
    "MC2312.to_csv('Incheon_MC2312.csv')\n",
    "BP2301.to_csv('Incheon_BP2301.csv')\n",
    "BP2312.to_csv('Incheon_BP2312.csv')"
   ]
  },
  {
   "cell_type": "code",
   "execution_count": 12,
   "metadata": {},
   "outputs": [
    {
     "data": {
      "text/html": [
       "<div>\n",
       "<style scoped>\n",
       "    .dataframe tbody tr th:only-of-type {\n",
       "        vertical-align: middle;\n",
       "    }\n",
       "\n",
       "    .dataframe tbody tr th {\n",
       "        vertical-align: top;\n",
       "    }\n",
       "\n",
       "    .dataframe thead th {\n",
       "        text-align: right;\n",
       "    }\n",
       "</style>\n",
       "<table border=\"1\" class=\"dataframe\">\n",
       "  <thead>\n",
       "    <tr style=\"text-align: right;\">\n",
       "      <th></th>\n",
       "      <th>아파트</th>\n",
       "      <th>금액(만원)</th>\n",
       "      <th>면적</th>\n",
       "      <th>층</th>\n",
       "      <th>주소</th>\n",
       "    </tr>\n",
       "  </thead>\n",
       "  <tbody>\n",
       "    <tr>\n",
       "      <th>2</th>\n",
       "      <td>더샵인천스카이타워1단지</td>\n",
       "      <td>50000</td>\n",
       "      <td>84.94</td>\n",
       "      <td>47</td>\n",
       "      <td>도화동 1011</td>\n",
       "    </tr>\n",
       "    <tr>\n",
       "      <th>5</th>\n",
       "      <td>더샵인천스카이타워1단지</td>\n",
       "      <td>49800</td>\n",
       "      <td>84.98</td>\n",
       "      <td>28</td>\n",
       "      <td>도화동 1011</td>\n",
       "    </tr>\n",
       "    <tr>\n",
       "      <th>6</th>\n",
       "      <td>더샵인천스카이타워2단지</td>\n",
       "      <td>49500</td>\n",
       "      <td>84.94</td>\n",
       "      <td>23</td>\n",
       "      <td>도화동 1002</td>\n",
       "    </tr>\n",
       "    <tr>\n",
       "      <th>12</th>\n",
       "      <td>엘에이치미추홀퍼스트</td>\n",
       "      <td>46000</td>\n",
       "      <td>84.73</td>\n",
       "      <td>18</td>\n",
       "      <td>용현동 지구BL2</td>\n",
       "    </tr>\n",
       "    <tr>\n",
       "      <th>17</th>\n",
       "      <td>더샵인천스카이타워1단지</td>\n",
       "      <td>43000</td>\n",
       "      <td>84.94</td>\n",
       "      <td>2</td>\n",
       "      <td>도화동 1011</td>\n",
       "    </tr>\n",
       "    <tr>\n",
       "      <th>...</th>\n",
       "      <td>...</td>\n",
       "      <td>...</td>\n",
       "      <td>...</td>\n",
       "      <td>...</td>\n",
       "      <td>...</td>\n",
       "    </tr>\n",
       "    <tr>\n",
       "      <th>560</th>\n",
       "      <td>서창퍼스트뷰(7단지)</td>\n",
       "      <td>33800</td>\n",
       "      <td>84.72</td>\n",
       "      <td>14</td>\n",
       "      <td>서창동 699</td>\n",
       "    </tr>\n",
       "    <tr>\n",
       "      <th>565</th>\n",
       "      <td>에코에비뉴</td>\n",
       "      <td>32200</td>\n",
       "      <td>84.94</td>\n",
       "      <td>2</td>\n",
       "      <td>서창동 695</td>\n",
       "    </tr>\n",
       "    <tr>\n",
       "      <th>579</th>\n",
       "      <td>벽산</td>\n",
       "      <td>28000</td>\n",
       "      <td>84.93</td>\n",
       "      <td>3</td>\n",
       "      <td>만수동 1114</td>\n",
       "    </tr>\n",
       "    <tr>\n",
       "      <th>580</th>\n",
       "      <td>신동아</td>\n",
       "      <td>27500</td>\n",
       "      <td>84.91</td>\n",
       "      <td>9</td>\n",
       "      <td>만수동 5-426</td>\n",
       "    </tr>\n",
       "    <tr>\n",
       "      <th>584</th>\n",
       "      <td>벽산</td>\n",
       "      <td>25000</td>\n",
       "      <td>84.93</td>\n",
       "      <td>1</td>\n",
       "      <td>만수동 1114</td>\n",
       "    </tr>\n",
       "  </tbody>\n",
       "</table>\n",
       "<p>187 rows × 5 columns</p>\n",
       "</div>"
      ],
      "text/plain": [
       "              아파트  금액(만원)     면적   층         주소\n",
       "2    더샵인천스카이타워1단지   50000  84.94  47   도화동 1011\n",
       "5    더샵인천스카이타워1단지   49800  84.98  28   도화동 1011\n",
       "6    더샵인천스카이타워2단지   49500  84.94  23   도화동 1002\n",
       "12     엘에이치미추홀퍼스트   46000  84.73  18  용현동 지구BL2\n",
       "17   더샵인천스카이타워1단지   43000  84.94   2   도화동 1011\n",
       "..            ...     ...    ...  ..        ...\n",
       "560   서창퍼스트뷰(7단지)   33800  84.72  14    서창동 699\n",
       "565         에코에비뉴   32200  84.94   2    서창동 695\n",
       "579            벽산   28000  84.93   3   만수동 1114\n",
       "580           신동아   27500  84.91   9  만수동 5-426\n",
       "584            벽산   25000  84.93   1   만수동 1114\n",
       "\n",
       "[187 rows x 5 columns]"
      ]
     },
     "execution_count": 12,
     "metadata": {},
     "output_type": "execute_result"
    }
   ],
   "source": [
    "# 면적(전용면적) 국민평수 약 84㎡ 로 한정\n",
    "MC2301=MC2301[(MC2301['면적']>84) & (MC2301['면적']<85)]\n",
    "MC2312=MC2312[(MC2312['면적']>84) & (MC2312['면적']<85)]\n",
    "BP2301=BP2301[(BP2301['면적']>84) & (BP2301['면적']<85)]\n",
    "BP2312=BP2312[(BP2312['면적']>84) & (BP2312['면적']<85)]\n",
    "\n",
    "MC2301"
   ]
  },
  {
   "cell_type": "code",
   "execution_count": 21,
   "metadata": {},
   "outputs": [],
   "source": [
    "# 아파트 이름순으로 정렬한 CSV 파일 생성\n",
    "\n",
    "MC2301_84=MC2301.sort_values('아파트')\n",
    "MC2301_84.to_csv('Incheon_abc_MC2301_84.csv')\n",
    "\n",
    "MC2312_84=MC2312.sort_values('아파트')\n",
    "MC2312_84.to_csv('Incheon_abc_MC2312_84.csv')\n",
    "\n",
    "BP2301_84=BP2301.sort_values('아파트')\n",
    "BP2301_84.to_csv('Incheon_abc_BP2301_84.csv')\n",
    "\n",
    "BP2312_84=BP2312.sort_values('아파트')\n",
    "BP2312_84.to_csv('Incheon_abc_BP2312_84.csv')"
   ]
  },
  {
   "cell_type": "code",
   "execution_count": 35,
   "metadata": {},
   "outputs": [],
   "source": [
    "# 두 기간 모두 거래된 아파트 추출\n",
    "MCsame = pd.merge(MC2301_84, MC2312_84, on='아파트', \n",
    "                             suffixes=('Incheon_abc_MC2301_84.csv', 'Incheon_abc_MC2312_84.csv'))\n",
    "MCsame.to_csv('MC_same.csv')"
   ]
  },
  {
   "cell_type": "code",
   "execution_count": 36,
   "metadata": {},
   "outputs": [],
   "source": [
    "# 중복 제거 후 아파트명만 추출\n",
    "MCsame_names = MCsame['아파트'].drop_duplicates()\n",
    "MCsame_names.to_csv('MC_same_names.csv')"
   ]
  },
  {
   "cell_type": "code",
   "execution_count": 37,
   "metadata": {},
   "outputs": [],
   "source": [
    "BPsame = pd.merge(BP2301_84, BP2312_84, on='아파트', \n",
    "                             suffixes=('Incheon_abc_BP2301_84.csv', 'Incheon_abc_BP2312_84.csv'))\n",
    "BPsame.to_csv('BP_same.csv')"
   ]
  },
  {
   "cell_type": "code",
   "execution_count": 38,
   "metadata": {},
   "outputs": [],
   "source": [
    "# 중복 제거 후 아파트명만 추출\n",
    "BPsame_names = BPsame['아파트'].drop_duplicates()\n",
    "BPsame_names.to_csv('BP_same_names.csv')"
   ]
  },
  {
   "cell_type": "code",
   "execution_count": 39,
   "metadata": {},
   "outputs": [
    {
     "name": "stdout",
     "output_type": "stream",
     "text": [
      "         아파트  금액(만원)     면적   층         주소\n",
      "461  간석래미안자이   56000  84.98  22  간석동 939-1\n",
      "         아파트  금액(만원)     면적   층         주소\n",
      "638  간석래미안자이   50000  84.98  13  간석동 939-1\n",
      "637  간석래미안자이   50000  84.97  10  간석동 939-1\n",
      "635  간석래미안자이   50500  84.97   6  간석동 939-1\n",
      "632  간석래미안자이   51000  84.98  14  간석동 939-1\n",
      "378  간석래미안자이   50000  84.97   8  간석동 939-1\n",
      "370  간석래미안자이   51500  84.97  23  간석동 939-1\n",
      "612  간석래미안자이   55000  84.98  20  간석동 939-1\n",
      "614  간석래미안자이   54500  84.97  12  간석동 939-1\n",
      "       아파트  금액(만원)     면적  층       주소\n",
      "168  래미안부평   59900  84.96  7  부평동 947\n",
      "12   래미안부평   50000  84.96  5  부평동 947\n",
      "     아파트  금액(만원)     면적   층       주소\n",
      "8  래미안부평   63000  84.96  12  부평동 947\n"
     ]
    }
   ],
   "source": [
    "# 아파트 브랜드 : 래미안 추출\n",
    "MC2301_84_RMA=MC2301_84[MC2301_84['아파트'].str.contains('래미안')]\n",
    "MC2312_84_RMA=MC2312_84[MC2312_84['아파트'].str.contains('래미안')]\n",
    "BP2301_84_RMA=BP2301_84[BP2301_84['아파트'].str.contains('래미안')]\n",
    "BP2312_84_RMA=BP2312_84[BP2312_84['아파트'].str.contains('래미안')]\n",
    "\n",
    "print(f'{MC2301_84_RMA}\\n{MC2312_84_RMA}\\n{BP2301_84_RMA}\\n{BP2312_84_RMA}')"
   ]
  },
  {
   "cell_type": "code",
   "execution_count": 41,
   "metadata": {},
   "outputs": [
    {
     "name": "stdout",
     "output_type": "stream",
     "text": [
      "           아파트  금액(만원)     면적   층       주소\n",
      "156  용현2단지금호타운   34500  84.53  11  용현동 647\n",
      "           아파트  금액(만원)     면적   층       주소\n",
      "78   용현2단지금호타운   29500  84.53  11  용현동 647\n",
      "70   용현2단지금호타운   30300  84.53  11  용현동 647\n",
      "251  용현2단지금호타운   30000  84.53   2  용현동 647\n",
      "            아파트  금액(만원)     면적  층       주소\n",
      "187  부평1,2차금호타운   40500  84.85  5  청천동 200\n",
      "193  부평1,2차금호타운   40000  84.85  6  청천동 200\n",
      "            아파트  금액(만원)     면적   층       주소\n",
      "297  부평1,2차금호타운   38900  84.85   9  청천동 200\n",
      "273  부평1,2차금호타운   45000  84.85  15  청천동 200\n",
      "278  부평1,2차금호타운   43500  84.85   9  청천동 200\n",
      "285  부평1,2차금호타운   41200  84.85   4  청천동 200\n",
      "283  부평1,2차금호타운   41500  84.85  10  청천동 200\n"
     ]
    }
   ],
   "source": [
    "# 아파트 브랜드 : 금호타운 추출\n",
    "MC2301_84_GH=MC2301_84[MC2301_84['아파트'].str.contains('용현2단지금호타운')]\n",
    "MC2312_84_GH=MC2312_84[MC2312_84['아파트'].str.contains('용현2단지금호타운')]\n",
    "BP2301_84_GH=BP2301_84[BP2301_84['아파트'].str.contains('부평1,2차금호타운')]\n",
    "BP2312_84_GH=BP2312_84[BP2312_84['아파트'].str.contains('부평1,2차금호타운')]\n",
    "\n",
    "print(f'{MC2301_84_GH}\\n{MC2312_84_GH}\\n{BP2301_84_GH}\\n{BP2312_84_GH}')"
   ]
  },
  {
   "cell_type": "code",
   "execution_count": 43,
   "metadata": {},
   "outputs": [
    {
     "name": "stdout",
     "output_type": "stream",
     "text": [
      "           아파트  금액(만원)     면적   층       주소\n",
      "269  서창센트럴푸르지오   44900  84.98  10  서창동 682\n",
      "271  서창센트럴푸르지오   44500  84.98  14  서창동 682\n",
      "496  서창센트럴푸르지오   43000  84.98  17  서창동 682\n",
      "292  서창센트럴푸르지오   42000  84.98   2  서창동 682\n",
      "276  서창센트럴푸르지오   43500  84.98  11  서창동 682\n",
      "           아파트  금액(만원)     면적   층       주소\n",
      "360  서창센트럴푸르지오   53000  84.98  19  서창동 682\n",
      "372  서창센트럴푸르지오   51000  84.98  22  서창동 682\n",
      "        아파트  금액(만원)     면적   층       주소\n",
      "38   청천푸르지오   35400  84.34  14  청천동 176\n",
      "48   청천푸르지오   33100  84.34  23  청천동 176\n",
      "198  청천푸르지오   38250  84.34  11  청천동 176\n",
      "54   청천푸르지오   33000  84.34  25  청천동 176\n",
      "56   청천푸르지오   32900  84.34  23  청천동 176\n",
      "59   청천푸르지오   32500  84.34  21  청천동 176\n",
      "64   청천푸르지오   31600  84.34   3  청천동 176\n",
      "213  청천푸르지오   32000  84.34  19  청천동 176\n",
      "53   청천푸르지오   33000  84.34  16  청천동 176\n",
      "        아파트  금액(만원)     면적   층       주소\n",
      "81   청천푸르지오   32500  84.34   2  청천동 176\n",
      "68   청천푸르지오   34400  84.34  12  청천동 176\n",
      "345  청천푸르지오   34500  84.34   4  청천동 176\n",
      "388  청천푸르지오   31500  84.34   1  청천동 176\n",
      "362  청천푸르지오   33000  84.94  17  청천동 176\n",
      "344  청천푸르지오   34500  84.34   4  청천동 176\n",
      "358  청천푸르지오   33000  84.34  19  청천동 176\n",
      "342  청천푸르지오   34700  84.94  20  청천동 176\n",
      "335  청천푸르지오   35000  84.34  19  청천동 176\n"
     ]
    }
   ],
   "source": [
    "# 아파트 브랜드 : 푸르지오 추출\n",
    "MC2301_84_PRGO=MC2301_84[MC2301_84['아파트'].str.contains('서창센트럴푸르지오')]\n",
    "MC2312_84_PRGO=MC2312_84[MC2312_84['아파트'].str.contains('서창센트럴푸르지오')]\n",
    "BP2301_84_PRGO=BP2301_84[BP2301_84['아파트'].str.contains('청천푸르지오')]\n",
    "BP2312_84_PRGO=BP2312_84[BP2312_84['아파트'].str.contains('청천푸르지오')]\n",
    "\n",
    "print(f'{MC2301_84_PRGO}\\n{MC2312_84_PRGO}\\n{BP2301_84_PRGO}\\n{BP2312_84_PRGO}')"
   ]
  },
  {
   "cell_type": "code",
   "execution_count": 45,
   "metadata": {},
   "outputs": [
    {
     "name": "stdout",
     "output_type": "stream",
     "text": [
      "           아파트  금액(만원)     면적  층       주소\n",
      "58  도화동신동아파밀리에   30000  84.69  1  도화동 982\n",
      "            아파트  금액(만원)     면적   층       주소\n",
      "74   도화동신동아파밀리에   29900  84.69  24  도화동 982\n",
      "249  도화동신동아파밀리에   30000  84.69  20  도화동 982\n",
      "      아파트  금액(만원)     면적  층       주소\n",
      "76  동암신동아   30000  84.94  6  십정동 607\n",
      "       아파트  금액(만원)     면적   층       주소\n",
      "69   동암신동아   34000  84.94  13  십정동 607\n",
      "371  동암신동아   32200  84.94   2  십정동 607\n",
      "364  동암신동아   33000  84.94   5  십정동 607\n",
      "349  동암신동아   34000  84.94   8  십정동 607\n",
      "70   동암신동아   34000  84.94  19  십정동 607\n",
      "346  동암신동아   34500  84.94   3  십정동 607\n",
      "337  동암신동아   34900  84.94  10  십정동 607\n",
      "325  동암신동아   35600  84.94  10  십정동 607\n"
     ]
    }
   ],
   "source": [
    "# 아파트 브랜드 : 신동아 추출\n",
    "MC2301_84_SDA=MC2301_84[MC2301_84['아파트'].str.contains('도화동신동아파밀리에')]\n",
    "MC2312_84_SDA=MC2312_84[MC2312_84['아파트'].str.contains('도화동신동아파밀리에')]\n",
    "BP2301_84_SDA=BP2301_84[BP2301_84['아파트'].str.contains('신동아')]\n",
    "BP2312_84_SDA=BP2312_84[BP2312_84['아파트'].str.contains('신동아')]\n",
    "\n",
    "print(f'{MC2301_84_SDA}\\n{MC2312_84_SDA}\\n{BP2301_84_SDA}\\n{BP2312_84_SDA}')"
   ]
  },
  {
   "cell_type": "code",
   "execution_count": 46,
   "metadata": {},
   "outputs": [
    {
     "name": "stdout",
     "output_type": "stream",
     "text": [
      "         아파트  금액(만원)     면적   층         주소\n",
      "461  간석래미안자이   56000  84.98  22  간석동 939-1\n",
      "         아파트  금액(만원)     면적   층         주소\n",
      "638  간석래미안자이   50000  84.98  13  간석동 939-1\n",
      "637  간석래미안자이   50000  84.97  10  간석동 939-1\n",
      "635  간석래미안자이   50500  84.97   6  간석동 939-1\n",
      "632  간석래미안자이   51000  84.98  14  간석동 939-1\n",
      "378  간석래미안자이   50000  84.97   8  간석동 939-1\n",
      "370  간석래미안자이   51500  84.97  23  간석동 939-1\n",
      "612  간석래미안자이   55000  84.98  20  간석동 939-1\n",
      "614  간석래미안자이   54500  84.97  12  간석동 939-1\n",
      "       아파트  금액(만원)     면적  층       주소\n",
      "168  래미안부평   59900  84.96  7  부평동 947\n",
      "12   래미안부평   50000  84.96  5  부평동 947\n",
      "     아파트  금액(만원)     면적   층       주소\n",
      "8  래미안부평   63000  84.96  12  부평동 947\n",
      "           아파트  금액(만원)     면적   층       주소\n",
      "156  용현2단지금호타운   34500  84.53  11  용현동 647\n",
      "           아파트  금액(만원)     면적   층       주소\n",
      "78   용현2단지금호타운   29500  84.53  11  용현동 647\n",
      "70   용현2단지금호타운   30300  84.53  11  용현동 647\n",
      "251  용현2단지금호타운   30000  84.53   2  용현동 647\n",
      "            아파트  금액(만원)     면적  층       주소\n",
      "187  부평1,2차금호타운   40500  84.85  5  청천동 200\n",
      "193  부평1,2차금호타운   40000  84.85  6  청천동 200\n",
      "            아파트  금액(만원)     면적   층       주소\n",
      "297  부평1,2차금호타운   38900  84.85   9  청천동 200\n",
      "273  부평1,2차금호타운   45000  84.85  15  청천동 200\n",
      "278  부평1,2차금호타운   43500  84.85   9  청천동 200\n",
      "285  부평1,2차금호타운   41200  84.85   4  청천동 200\n",
      "283  부평1,2차금호타운   41500  84.85  10  청천동 200\n",
      "           아파트  금액(만원)     면적   층       주소\n",
      "269  서창센트럴푸르지오   44900  84.98  10  서창동 682\n",
      "271  서창센트럴푸르지오   44500  84.98  14  서창동 682\n",
      "496  서창센트럴푸르지오   43000  84.98  17  서창동 682\n",
      "292  서창센트럴푸르지오   42000  84.98   2  서창동 682\n",
      "276  서창센트럴푸르지오   43500  84.98  11  서창동 682\n",
      "           아파트  금액(만원)     면적   층       주소\n",
      "360  서창센트럴푸르지오   53000  84.98  19  서창동 682\n",
      "372  서창센트럴푸르지오   51000  84.98  22  서창동 682\n",
      "        아파트  금액(만원)     면적   층       주소\n",
      "38   청천푸르지오   35400  84.34  14  청천동 176\n",
      "48   청천푸르지오   33100  84.34  23  청천동 176\n",
      "198  청천푸르지오   38250  84.34  11  청천동 176\n",
      "54   청천푸르지오   33000  84.34  25  청천동 176\n",
      "56   청천푸르지오   32900  84.34  23  청천동 176\n",
      "59   청천푸르지오   32500  84.34  21  청천동 176\n",
      "64   청천푸르지오   31600  84.34   3  청천동 176\n",
      "213  청천푸르지오   32000  84.34  19  청천동 176\n",
      "53   청천푸르지오   33000  84.34  16  청천동 176\n",
      "        아파트  금액(만원)     면적   층       주소\n",
      "81   청천푸르지오   32500  84.34   2  청천동 176\n",
      "68   청천푸르지오   34400  84.34  12  청천동 176\n",
      "345  청천푸르지오   34500  84.34   4  청천동 176\n",
      "388  청천푸르지오   31500  84.34   1  청천동 176\n",
      "362  청천푸르지오   33000  84.94  17  청천동 176\n",
      "344  청천푸르지오   34500  84.34   4  청천동 176\n",
      "358  청천푸르지오   33000  84.34  19  청천동 176\n",
      "342  청천푸르지오   34700  84.94  20  청천동 176\n",
      "335  청천푸르지오   35000  84.34  19  청천동 176\n",
      "           아파트  금액(만원)     면적  층       주소\n",
      "58  도화동신동아파밀리에   30000  84.69  1  도화동 982\n",
      "            아파트  금액(만원)     면적   층       주소\n",
      "74   도화동신동아파밀리에   29900  84.69  24  도화동 982\n",
      "249  도화동신동아파밀리에   30000  84.69  20  도화동 982\n",
      "      아파트  금액(만원)     면적  층       주소\n",
      "76  동암신동아   30000  84.94  6  십정동 607\n",
      "       아파트  금액(만원)     면적   층       주소\n",
      "69   동암신동아   34000  84.94  13  십정동 607\n",
      "371  동암신동아   32200  84.94   2  십정동 607\n",
      "364  동암신동아   33000  84.94   5  십정동 607\n",
      "349  동암신동아   34000  84.94   8  십정동 607\n",
      "70   동암신동아   34000  84.94  19  십정동 607\n",
      "346  동암신동아   34500  84.94   3  십정동 607\n",
      "337  동암신동아   34900  84.94  10  십정동 607\n",
      "325  동암신동아   35600  84.94  10  십정동 607\n"
     ]
    }
   ],
   "source": [
    "# 래미안\n",
    "print(f'{MC2301_84_RMA}\\n{MC2312_84_RMA}\\n{BP2301_84_RMA}\\n{BP2312_84_RMA}')\n",
    "# 금호타운\n",
    "print(f'{MC2301_84_GH}\\n{MC2312_84_GH}\\n{BP2301_84_GH}\\n{BP2312_84_GH}')\n",
    "# 푸르지오\n",
    "print(f'{MC2301_84_PRGO}\\n{MC2312_84_PRGO}\\n{BP2301_84_PRGO}\\n{BP2312_84_PRGO}')\n",
    "# 신동아\n",
    "print(f'{MC2301_84_SDA}\\n{MC2312_84_SDA}\\n{BP2301_84_SDA}\\n{BP2312_84_SDA}')\n"
   ]
  },
  {
   "cell_type": "code",
   "execution_count": 63,
   "metadata": {},
   "outputs": [
    {
     "name": "stdout",
     "output_type": "stream",
     "text": [
      "<class 'pandas.core.frame.DataFrame'>\n",
      "Index: 8 entries, 69 to 325\n",
      "Data columns (total 5 columns):\n",
      " #   Column  Non-Null Count  Dtype  \n",
      "---  ------  --------------  -----  \n",
      " 0   아파트     8 non-null      object \n",
      " 1   금액(만원)  8 non-null      int64  \n",
      " 2   면적      8 non-null      float64\n",
      " 3   층       8 non-null      int64  \n",
      " 4   주소      8 non-null      object \n",
      "dtypes: float64(1), int64(2), object(2)\n",
      "memory usage: 384.0+ bytes\n"
     ]
    }
   ],
   "source": [
    "# 금액(만원) Dtype : int64인지 일일히 확인\n",
    "BP2312_84_SDA.info()"
   ]
  },
  {
   "cell_type": "code",
   "execution_count": null,
   "metadata": {},
   "outputs": [],
   "source": []
  },
  {
   "cell_type": "code",
   "execution_count": 79,
   "metadata": {},
   "outputs": [],
   "source": [
    "# 청아람 북구 평균값 변동 추이\n",
    "BUKGU2301_CAR_MEAN = BUKGU2301_CAR_Summary.loc['mean', '금액(만원)']\n",
    "BUKGU2312_CAR_MEAN = BUKGU2312_CAR_Summary.loc['mean', '금액(만원)']\n",
    "change_amount = BUKGU2312_CAR_MEAN - BUKGU2301_CAR_MEAN\n",
    "change_rate = (change_amount / BUKGU2301_CAR_MEAN) * 100\n",
    "print(f\"\\n청아람 북구 평균값 변동 추이:\")\n",
    "print(f\"23년 01월 평균값: {BUKGU2301_CAR_MEAN:.2f} 만원\")\n",
    "print(f\"23년 12월 평균값: {BUKGU2312_CAR_MEAN:.2f} 만원\")\n",
    "print(f\"변동 금액: {change_amount:.2f} 만원\")\n",
    "print(f\"변동 비율: {change_rate:.2f} %\")\n"
   ]
  },
  {
   "cell_type": "code",
   "execution_count": 80,
   "metadata": {},
   "outputs": [],
   "source": []
  },
  {
   "cell_type": "code",
   "execution_count": 81,
   "metadata": {},
   "outputs": [
    {
     "name": "stdout",
     "output_type": "stream",
     "text": [
      "\n",
      "[ 미추홀구 - 래미안 ]\n",
      "변동 금액: -4437.5\n",
      "변동 비율(%): -7.924107142857142\n",
      "\n",
      "[ 부평구 - 래미안 ]\n",
      "변동 금액: 8050.0\n",
      "변동 비율(%): 14.64968152866242\n"
     ]
    }
   ],
   "source": []
  },
  {
   "cell_type": "code",
   "execution_count": 82,
   "metadata": {},
   "outputs": [
    {
     "name": "stdout",
     "output_type": "stream",
     "text": [
      "\n",
      "[ 미추홀구 - 금호타운 ]\n",
      "변동 금액: -4566.666666666668\n",
      "변동 비율(%): -13.236714975845414\n",
      "\n",
      "[ 부평구 - 금호타운 ]\n",
      "변동 금액: 1770.0\n",
      "변동 비율(%): 4.39751552795031\n"
     ]
    }
   ],
   "source": []
  },
  {
   "cell_type": "code",
   "execution_count": 83,
   "metadata": {},
   "outputs": [
    {
     "name": "stdout",
     "output_type": "stream",
     "text": [
      "\n",
      "[ 미추홀구 - 푸르지오 ]\n",
      "변동 금액: 8420.0\n",
      "변동 비율(%): 19.32078935291418\n",
      "\n",
      "[ 부평구 - 푸르지오 ]\n",
      "변동 금액: 150.0\n",
      "변동 비율(%): 0.4473902236951118\n"
     ]
    }
   ],
   "source": []
  },
  {
   "cell_type": "code",
   "execution_count": 89,
   "metadata": {},
   "outputs": [
    {
     "name": "stdout",
     "output_type": "stream",
     "text": [
      "\n",
      "[ 미추홀구 - 신동아 ]\n",
      "변동 금액: -50.0\n",
      "변동 비율(%): -0.16666666666666669\n",
      "\n",
      "[ 부평구 - 신동아 ]\n",
      "변동 금액: 4025.0\n",
      "변동 비율(%): 13.416666666666666\n"
     ]
    }
   ],
   "source": []
  },
  {
   "cell_type": "code",
   "execution_count": 90,
   "metadata": {},
   "outputs": [],
   "source": [
    "import matplotlib.pyplot as plt"
   ]
  },
  {
   "cell_type": "code",
   "execution_count": 91,
   "metadata": {},
   "outputs": [],
   "source": []
  },
  {
   "cell_type": "code",
   "execution_count": null,
   "metadata": {},
   "outputs": [
    {
     "name": "stdout",
     "output_type": "stream",
     "text": [
      "          점선 : 부평구        실선 : 미추홀구\n",
      "          점선 : 부평구        실선 : 미추홀구\n",
      "          점선 : 부평구        실선 : 미추홀구\n",
      "          점선 : 부평구        실선 : 미추홀구\n"
     ]
    },
    {
     "data": {
      "image/png": "[encoded data removed]",
      "text/plain": [
       "<Figure size 640x480 with 1 Axes>"
      ]
     },
     "metadata": {},
     "output_type": "display_data"
    }
   ],
   "source": []
  },
  {
   "cell_type": "code",
   "execution_count": 93,
   "metadata": {},
   "outputs": [
    {
     "name": "stderr",
     "output_type": "stream",
     "text": [
      "C:\\Users\\KDP-27\\AppData\\Local\\Temp\\ipykernel_12380\\2355919153.py:5: UserWarning: No artists with labels found to put in legend.  Note that artists whose label start with an underscore are ignored when legend() is called with no argument.\n",
      "  plt.legend()\n",
      "c:\\Users\\KDP-27\\anaconda3\\envs\\DR97\\lib\\site-packages\\IPython\\core\\pylabtools.py:152: UserWarning: Glyph 54217 (\\N{HANGUL SYLLABLE PYEONG}) missing from font(s) DejaVu Sans.\n",
      "  fig.canvas.print_figure(bytes_io, **kw)\n",
      "c:\\Users\\KDP-27\\anaconda3\\envs\\DR97\\lib\\site-packages\\IPython\\core\\pylabtools.py:152: UserWarning: Glyph 44512 (\\N{HANGUL SYLLABLE GYUN}) missing from font(s) DejaVu Sans.\n",
      "  fig.canvas.print_figure(bytes_io, **kw)\n",
      "c:\\Users\\KDP-27\\anaconda3\\envs\\DR97\\lib\\site-packages\\IPython\\core\\pylabtools.py:152: UserWarning: Glyph 44552 (\\N{HANGUL SYLLABLE GEUM}) missing from font(s) DejaVu Sans.\n",
      "  fig.canvas.print_figure(bytes_io, **kw)\n",
      "c:\\Users\\KDP-27\\anaconda3\\envs\\DR97\\lib\\site-packages\\IPython\\core\\pylabtools.py:152: UserWarning: Glyph 50529 (\\N{HANGUL SYLLABLE AEG}) missing from font(s) DejaVu Sans.\n",
      "  fig.canvas.print_figure(bytes_io, **kw)\n",
      "c:\\Users\\KDP-27\\anaconda3\\envs\\DR97\\lib\\site-packages\\IPython\\core\\pylabtools.py:152: UserWarning: Glyph 47564 (\\N{HANGUL SYLLABLE MAN}) missing from font(s) DejaVu Sans.\n",
      "  fig.canvas.print_figure(bytes_io, **kw)\n",
      "c:\\Users\\KDP-27\\anaconda3\\envs\\DR97\\lib\\site-packages\\IPython\\core\\pylabtools.py:152: UserWarning: Glyph 50896 (\\N{HANGUL SYLLABLE WEON}) missing from font(s) DejaVu Sans.\n",
      "  fig.canvas.print_figure(bytes_io, **kw)\n",
      "c:\\Users\\KDP-27\\anaconda3\\envs\\DR97\\lib\\site-packages\\IPython\\core\\pylabtools.py:152: UserWarning: Glyph 48120 (\\N{HANGUL SYLLABLE MI}) missing from font(s) DejaVu Sans.\n",
      "  fig.canvas.print_figure(bytes_io, **kw)\n",
      "c:\\Users\\KDP-27\\anaconda3\\envs\\DR97\\lib\\site-packages\\IPython\\core\\pylabtools.py:152: UserWarning: Glyph 52628 (\\N{HANGUL SYLLABLE CU}) missing from font(s) DejaVu Sans.\n",
      "  fig.canvas.print_figure(bytes_io, **kw)\n",
      "c:\\Users\\KDP-27\\anaconda3\\envs\\DR97\\lib\\site-packages\\IPython\\core\\pylabtools.py:152: UserWarning: Glyph 54848 (\\N{HANGUL SYLLABLE HOL}) missing from font(s) DejaVu Sans.\n",
      "  fig.canvas.print_figure(bytes_io, **kw)\n",
      "c:\\Users\\KDP-27\\anaconda3\\envs\\DR97\\lib\\site-packages\\IPython\\core\\pylabtools.py:152: UserWarning: Glyph 44396 (\\N{HANGUL SYLLABLE GU}) missing from font(s) DejaVu Sans.\n",
      "  fig.canvas.print_figure(bytes_io, **kw)\n",
      "c:\\Users\\KDP-27\\anaconda3\\envs\\DR97\\lib\\site-packages\\IPython\\core\\pylabtools.py:152: UserWarning: Glyph 50752 (\\N{HANGUL SYLLABLE WA}) missing from font(s) DejaVu Sans.\n",
      "  fig.canvas.print_figure(bytes_io, **kw)\n",
      "c:\\Users\\KDP-27\\anaconda3\\envs\\DR97\\lib\\site-packages\\IPython\\core\\pylabtools.py:152: UserWarning: Glyph 48512 (\\N{HANGUL SYLLABLE BU}) missing from font(s) DejaVu Sans.\n",
      "  fig.canvas.print_figure(bytes_io, **kw)\n",
      "c:\\Users\\KDP-27\\anaconda3\\envs\\DR97\\lib\\site-packages\\IPython\\core\\pylabtools.py:152: UserWarning: Glyph 48652 (\\N{HANGUL SYLLABLE BEU}) missing from font(s) DejaVu Sans.\n",
      "  fig.canvas.print_figure(bytes_io, **kw)\n",
      "c:\\Users\\KDP-27\\anaconda3\\envs\\DR97\\lib\\site-packages\\IPython\\core\\pylabtools.py:152: UserWarning: Glyph 47004 (\\N{HANGUL SYLLABLE RAEN}) missing from font(s) DejaVu Sans.\n",
      "  fig.canvas.print_figure(bytes_io, **kw)\n",
      "c:\\Users\\KDP-27\\anaconda3\\envs\\DR97\\lib\\site-packages\\IPython\\core\\pylabtools.py:152: UserWarning: Glyph 46300 (\\N{HANGUL SYLLABLE DEU}) missing from font(s) DejaVu Sans.\n",
      "  fig.canvas.print_figure(bytes_io, **kw)\n",
      "c:\\Users\\KDP-27\\anaconda3\\envs\\DR97\\lib\\site-packages\\IPython\\core\\pylabtools.py:152: UserWarning: Glyph 48324 (\\N{HANGUL SYLLABLE BYEOL}) missing from font(s) DejaVu Sans.\n",
      "  fig.canvas.print_figure(bytes_io, **kw)\n",
      "c:\\Users\\KDP-27\\anaconda3\\envs\\DR97\\lib\\site-packages\\IPython\\core\\pylabtools.py:152: UserWarning: Glyph 48320 (\\N{HANGUL SYLLABLE BYEON}) missing from font(s) DejaVu Sans.\n",
      "  fig.canvas.print_figure(bytes_io, **kw)\n",
      "c:\\Users\\KDP-27\\anaconda3\\envs\\DR97\\lib\\site-packages\\IPython\\core\\pylabtools.py:152: UserWarning: Glyph 54868 (\\N{HANGUL SYLLABLE HWA}) missing from font(s) DejaVu Sans.\n",
      "  fig.canvas.print_figure(bytes_io, **kw)\n",
      "c:\\Users\\KDP-27\\anaconda3\\envs\\DR97\\lib\\site-packages\\IPython\\core\\pylabtools.py:152: UserWarning: Glyph 44592 (\\N{HANGUL SYLLABLE GI}) missing from font(s) DejaVu Sans.\n",
      "  fig.canvas.print_figure(bytes_io, **kw)\n",
      "c:\\Users\\KDP-27\\anaconda3\\envs\\DR97\\lib\\site-packages\\IPython\\core\\pylabtools.py:152: UserWarning: Glyph 44036 (\\N{HANGUL SYLLABLE GAN}) missing from font(s) DejaVu Sans.\n",
      "  fig.canvas.print_figure(bytes_io, **kw)\n"
     ]
    },
    {
     "data": {
      "image/png": "[encoded data removed]",
      "text/plain": [
       "<Figure size 640x480 with 1 Axes>"
      ]
     },
     "metadata": {},
     "output_type": "display_data"
    },
    {
     "name": "stdout",
     "output_type": "stream",
     "text": [
      "          점선 : 부평구        실선 : 미추홀구\n"
     ]
    }
   ],
   "source": []
  },
  {
   "cell_type": "code",
   "execution_count": null,
   "metadata": {},
   "outputs": [],
   "source": []
  }
 ],
 "metadata": {
  "kernelspec": {
   "display_name": "DR97",
   "language": "python",
   "name": "python3"
  },
  "language_info": {
   "codemirror_mode": {
    "name": "ipython",
    "version": 3
   },
   "file_extension": ".py",
   "mimetype": "text/x-python",
   "name": "python",
   "nbconvert_exporter": "python",
   "pygments_lexer": "ipython3",
   "version": "3.9.21"
  }
 },
 "nbformat": 4,
 "nbformat_minor": 2
}
